{
 "cells": [
  {
   "cell_type": "code",
   "execution_count": 1,
   "metadata": {},
   "outputs": [],
   "source": [
    "import pandas as pd \n",
    "import numpy as np\n",
    "from scipy.stats import norm\n",
    "import sys \n",
    "import os\n",
    "\n",
    "sys.path.append('../data/')\n",
    "sys.path.append('../models/')\n",
    "from falsifier import Falsifier\n",
    "from baselines import MetaAnalyzer, EvolvedMetaAnalyzer, SimpleBaseline\n",
    "from estimator import CATE\n",
    "from DataModule import DataModule"
   ]
  },
  {
   "cell_type": "code",
   "execution_count": 81,
   "metadata": {},
   "outputs": [
    {
     "data": {
      "text/html": [
       "<div>\n",
       "<style scoped>\n",
       "    .dataframe tbody tr th:only-of-type {\n",
       "        vertical-align: middle;\n",
       "    }\n",
       "\n",
       "    .dataframe tbody tr th {\n",
       "        vertical-align: top;\n",
       "    }\n",
       "\n",
       "    .dataframe thead th {\n",
       "        text-align: right;\n",
       "    }\n",
       "</style>\n",
       "<table border=\"1\" class=\"dataframe\">\n",
       "  <thead>\n",
       "    <tr style=\"text-align: right;\">\n",
       "      <th></th>\n",
       "      <th>Unnamed: 0</th>\n",
       "      <th>iter</th>\n",
       "      <th>obs_study_num</th>\n",
       "      <th>obs_study_size</th>\n",
       "      <th>p_val</th>\n",
       "      <th>reject</th>\n",
       "    </tr>\n",
       "  </thead>\n",
       "  <tbody>\n",
       "    <tr>\n",
       "      <th>0</th>\n",
       "      <td>0</td>\n",
       "      <td>0</td>\n",
       "      <td>1</td>\n",
       "      <td>3.0</td>\n",
       "      <td>0.019802</td>\n",
       "      <td>1</td>\n",
       "    </tr>\n",
       "    <tr>\n",
       "      <th>1</th>\n",
       "      <td>1</td>\n",
       "      <td>0</td>\n",
       "      <td>2</td>\n",
       "      <td>4.0</td>\n",
       "      <td>0.009901</td>\n",
       "      <td>1</td>\n",
       "    </tr>\n",
       "    <tr>\n",
       "      <th>2</th>\n",
       "      <td>2</td>\n",
       "      <td>0</td>\n",
       "      <td>3</td>\n",
       "      <td>5.0</td>\n",
       "      <td>0.009901</td>\n",
       "      <td>1</td>\n",
       "    </tr>\n",
       "    <tr>\n",
       "      <th>3</th>\n",
       "      <td>3</td>\n",
       "      <td>0</td>\n",
       "      <td>4</td>\n",
       "      <td>7.0</td>\n",
       "      <td>0.029703</td>\n",
       "      <td>1</td>\n",
       "    </tr>\n",
       "    <tr>\n",
       "      <th>4</th>\n",
       "      <td>4</td>\n",
       "      <td>0</td>\n",
       "      <td>5</td>\n",
       "      <td>10.0</td>\n",
       "      <td>0.019802</td>\n",
       "      <td>1</td>\n",
       "    </tr>\n",
       "    <tr>\n",
       "      <th>...</th>\n",
       "      <td>...</td>\n",
       "      <td>...</td>\n",
       "      <td>...</td>\n",
       "      <td>...</td>\n",
       "      <td>...</td>\n",
       "      <td>...</td>\n",
       "    </tr>\n",
       "    <tr>\n",
       "      <th>495</th>\n",
       "      <td>495</td>\n",
       "      <td>99</td>\n",
       "      <td>1</td>\n",
       "      <td>3.0</td>\n",
       "      <td>0.019802</td>\n",
       "      <td>1</td>\n",
       "    </tr>\n",
       "    <tr>\n",
       "      <th>496</th>\n",
       "      <td>496</td>\n",
       "      <td>99</td>\n",
       "      <td>2</td>\n",
       "      <td>4.0</td>\n",
       "      <td>0.029703</td>\n",
       "      <td>1</td>\n",
       "    </tr>\n",
       "    <tr>\n",
       "      <th>497</th>\n",
       "      <td>497</td>\n",
       "      <td>99</td>\n",
       "      <td>3</td>\n",
       "      <td>5.0</td>\n",
       "      <td>0.009901</td>\n",
       "      <td>1</td>\n",
       "    </tr>\n",
       "    <tr>\n",
       "      <th>498</th>\n",
       "      <td>498</td>\n",
       "      <td>99</td>\n",
       "      <td>4</td>\n",
       "      <td>7.0</td>\n",
       "      <td>0.039604</td>\n",
       "      <td>1</td>\n",
       "    </tr>\n",
       "    <tr>\n",
       "      <th>499</th>\n",
       "      <td>499</td>\n",
       "      <td>99</td>\n",
       "      <td>5</td>\n",
       "      <td>10.0</td>\n",
       "      <td>0.009901</td>\n",
       "      <td>1</td>\n",
       "    </tr>\n",
       "  </tbody>\n",
       "</table>\n",
       "<p>500 rows × 6 columns</p>\n",
       "</div>"
      ],
      "text/plain": [
       "     Unnamed: 0  iter  obs_study_num  obs_study_size     p_val  reject\n",
       "0             0     0              1             3.0  0.019802       1\n",
       "1             1     0              2             4.0  0.009901       1\n",
       "2             2     0              3             5.0  0.009901       1\n",
       "3             3     0              4             7.0  0.029703       1\n",
       "4             4     0              5            10.0  0.019802       1\n",
       "..          ...   ...            ...             ...       ...     ...\n",
       "495         495    99              1             3.0  0.019802       1\n",
       "496         496    99              2             4.0  0.029703       1\n",
       "497         497    99              3             5.0  0.009901       1\n",
       "498         498    99              4             7.0  0.039604       1\n",
       "499         499    99              5            10.0  0.009901       1\n",
       "\n",
       "[500 rows x 6 columns]"
      ]
     },
     "execution_count": 81,
     "metadata": {},
     "output_type": "execute_result"
    }
   ],
   "source": [
    "path = './mmr_results/fig1_v2/'\n",
    "filenames = {\n",
    "    'ATE': 'ATE-rct3-C0-v2-strong-confounding.csv', \n",
    "    'GATE': 'GATE-rct3-C0-v2-strong-confounding.csv', \n",
    "    'MMR-Contrast': 'MMR-Contrast-KEOPS-rct3-C0-v2-strong-confounding.csv'\n",
    "    # 'ATE': 'ATE-rct3-C0-v2.csv', \n",
    "    # 'GATE': 'GATE-rct3-C0-v2.csv', \n",
    "    # 'MMR-Contrast': 'MMR-Contrast-KEOPS-rct3-C0-v2.csv'\n",
    "}\n",
    "full_paths = {k:os.path.join(path,filenames[k]) for k in filenames.keys()}\n",
    "dfs_level = {k:pd.read_csv(full_paths[k]) for k in full_paths.keys()}\n",
    "dfs_level['MMR-Contrast']\n",
    "\n",
    "filenames = {\n",
    "    'ATE': 'ATE-rct3-C1-v2-strong-confounding.csv', \n",
    "    'GATE': 'GATE-rct3-C1-v2-strong-confounding.csv', \n",
    "    'MMR-Contrast': 'MMR-Contrast-KEOPS-rct3-C1-v2-strong-confounding.csv'\n",
    "    # 'ATE': 'ATE-rct3-C1-v2.csv', \n",
    "    # 'GATE': 'GATE-rct3-C1-v2.csv', \n",
    "    # 'MMR-Contrast': 'MMR-Contrast-KEOPS-rct3-C1-v2.csv'\n",
    "}\n",
    "full_paths = {k:os.path.join(path,filenames[k]) for k in filenames.keys()}\n",
    "dfs_power = {k:pd.read_csv(full_paths[k]) for k in full_paths.keys()}\n",
    "dfs_power['MMR-Contrast']"
   ]
  },
  {
   "cell_type": "code",
   "execution_count": 82,
   "metadata": {},
   "outputs": [
    {
     "name": "stdout",
     "output_type": "stream",
     "text": [
      "[3, 4, 5, 7, 10]\n",
      "[0.01, 0.01, 0.01, 0.0, 0.0]\n",
      "[0.001 0.001 0.001 0.001 0.001]\n",
      "[0.04, 0.05, 0.06, 0.01, 0.07]\n",
      "[0.76, 0.76, 0.78, 0.7, 0.7]\n",
      "[0.101 0.071 0.081 0.041 0.011]\n",
      "[0.76, 0.84, 0.88, 0.72, 0.88]\n"
     ]
    }
   ],
   "source": [
    "sample_sizes = [3,4,5,7,10]\n",
    "rej_mean_mmr_level = []\n",
    "rej_mean_mmr_power = []\n",
    "rej_mean_ate_level = []\n",
    "rej_mean_ate_power = []\n",
    "rej_mean_gate_level = []\n",
    "rej_mean_gate_power = []\n",
    "\n",
    "for size in sample_sizes: \n",
    "    rej_mean_ate_level.append(dfs_level['ATE'][dfs_level['ATE']['obs_study_size'] == size]['reject'].mean())\n",
    "    rej_mean_mmr_level.append(dfs_level['MMR-Contrast'][dfs_level['MMR-Contrast']['obs_study_size'] == size]['reject'].mean())\n",
    "    rej_mean_gate_level.append(dfs_level['GATE'][dfs_level['GATE']['obs_study_size'] == size]['reject'].mean())\n",
    "    rej_mean_ate_power.append(dfs_power['ATE'][dfs_power['ATE']['obs_study_size'] == size]['reject'].mean())\n",
    "    rej_mean_mmr_power.append(dfs_power['MMR-Contrast'][dfs_power['MMR-Contrast']['obs_study_size'] == size]['reject'].mean())\n",
    "    rej_mean_gate_power.append(dfs_power['GATE'][dfs_power['GATE']['obs_study_size'] == size]['reject'].mean())\n",
    "\n",
    "print(sample_sizes)\n",
    "rej_mean_gate_level = np.array(rej_mean_gate_level)+0.001\n",
    "print(rej_mean_ate_level)\n",
    "print(rej_mean_gate_level)\n",
    "print(rej_mean_mmr_level)\n",
    "rej_mean_gate_power = np.array(rej_mean_gate_power)+0.001\n",
    "print(rej_mean_ate_power)\n",
    "print(rej_mean_gate_power)\n",
    "print(rej_mean_mmr_power)\n"
   ]
  },
  {
   "cell_type": "code",
   "execution_count": 83,
   "metadata": {},
   "outputs": [
    {
     "data": {
      "text/plain": [
       "[3, 4, 5, 7, 10]"
      ]
     },
     "execution_count": 83,
     "metadata": {},
     "output_type": "execute_result"
    }
   ],
   "source": [
    "sample_sizes"
   ]
  },
  {
   "cell_type": "code",
   "execution_count": 5,
   "metadata": {},
   "outputs": [],
   "source": [
    "%matplotlib inline\n",
    "import matplotlib.pylab as plt\n",
    "import seaborn as sns\n",
    "\n",
    "## alternate font/graph format\n",
    "plt.rcParams['ps.useafm'] = True\n",
    "plt.rcParams['pdf.use14corefonts'] = True\n",
    "plt.rcParams['text.usetex'] = True\n",
    "plt.rc('font', weight='heavy')\n",
    "plt.rc('xtick', labelsize='x-large')\n",
    "plt.rc('ytick', labelsize='x-large')\n",
    "plt.rc('axes', labelsize='x-large')"
   ]
  },
  {
   "cell_type": "code",
   "execution_count": 85,
   "metadata": {},
   "outputs": [],
   "source": [
    "sample_sizes = np.array(sample_sizes)/3.\n"
   ]
  },
  {
   "cell_type": "code",
   "execution_count": 46,
   "metadata": {},
   "outputs": [
    {
     "data": {
      "text/html": [
       "<svg  width=\"550\" height=\"55\"><rect x=\"0\" y=\"0\" width=\"55\" height=\"55\" style=\"fill:#0173b2;stroke-width:2;stroke:rgb(255,255,255)\"/><rect x=\"55\" y=\"0\" width=\"55\" height=\"55\" style=\"fill:#de8f05;stroke-width:2;stroke:rgb(255,255,255)\"/><rect x=\"110\" y=\"0\" width=\"55\" height=\"55\" style=\"fill:#029e73;stroke-width:2;stroke:rgb(255,255,255)\"/><rect x=\"165\" y=\"0\" width=\"55\" height=\"55\" style=\"fill:#d55e00;stroke-width:2;stroke:rgb(255,255,255)\"/><rect x=\"220\" y=\"0\" width=\"55\" height=\"55\" style=\"fill:#cc78bc;stroke-width:2;stroke:rgb(255,255,255)\"/><rect x=\"275\" y=\"0\" width=\"55\" height=\"55\" style=\"fill:#ca9161;stroke-width:2;stroke:rgb(255,255,255)\"/><rect x=\"330\" y=\"0\" width=\"55\" height=\"55\" style=\"fill:#fbafe4;stroke-width:2;stroke:rgb(255,255,255)\"/><rect x=\"385\" y=\"0\" width=\"55\" height=\"55\" style=\"fill:#949494;stroke-width:2;stroke:rgb(255,255,255)\"/><rect x=\"440\" y=\"0\" width=\"55\" height=\"55\" style=\"fill:#ece133;stroke-width:2;stroke:rgb(255,255,255)\"/><rect x=\"495\" y=\"0\" width=\"55\" height=\"55\" style=\"fill:#56b4e9;stroke-width:2;stroke:rgb(255,255,255)\"/></svg>"
      ],
      "text/plain": [
       "[(0.00392156862745098, 0.45098039215686275, 0.6980392156862745),\n",
       " (0.8705882352941177, 0.5607843137254902, 0.0196078431372549),\n",
       " (0.00784313725490196, 0.6196078431372549, 0.45098039215686275),\n",
       " (0.8352941176470589, 0.3686274509803922, 0.0),\n",
       " (0.8, 0.47058823529411764, 0.7372549019607844),\n",
       " (0.792156862745098, 0.5686274509803921, 0.3803921568627451),\n",
       " (0.984313725490196, 0.6862745098039216, 0.8941176470588236),\n",
       " (0.5803921568627451, 0.5803921568627451, 0.5803921568627451),\n",
       " (0.9254901960784314, 0.8823529411764706, 0.2),\n",
       " (0.33725490196078434, 0.7058823529411765, 0.9137254901960784)]"
      ]
     },
     "execution_count": 46,
     "metadata": {},
     "output_type": "execute_result"
    }
   ],
   "source": [
    "cp = sns.color_palette('colorblind')\n",
    "cp"
   ]
  },
  {
   "cell_type": "code",
   "execution_count": 86,
   "metadata": {},
   "outputs": [
    {
     "name": "stderr",
     "output_type": "stream",
     "text": [
      "<ipython-input-86-ae2073f9507a>:23: UserWarning: FixedFormatter should only be used together with FixedLocator\n",
      "  axs[0].set_xticklabels([0.,1.0,1.5,2.0,2.5,3.0], fontsize=18)\n",
      "<ipython-input-86-ae2073f9507a>:24: UserWarning: FixedFormatter should only be used together with FixedLocator\n",
      "  axs[1].set_xticklabels([0.,1.0,1.5,2.0,2.5,3.0], fontsize=18)\n"
     ]
    },
    {
     "data": {
      "image/png": "[encoded data removed]",
      "text/plain": [
       "<Figure size 792x288 with 2 Axes>"
      ]
     },
     "metadata": {
      "needs_background": "light"
     },
     "output_type": "display_data"
    }
   ],
   "source": [
    "fig, axlist = plt.subplots(1,2,figsize=(11,4))\n",
    "axs = axlist.ravel()\n",
    "\n",
    "\n",
    "axs[0].plot(sample_sizes, rej_mean_mmr_level, label='MMR-Contrast', linewidth=3, linestyle='--', color='darkred', marker='s', ms=8)\n",
    "axs[0].plot(sample_sizes, rej_mean_gate_level+0.01, label='GATE', linewidth=3, linestyle='--', color='darkblue', marker='s', ms=8)\n",
    "axs[0].plot(sample_sizes, rej_mean_ate_level, label='ATE', linewidth=3, linestyle='--', color='darkgray', marker='s', ms=8)\n",
    "axs[1].plot(sample_sizes, rej_mean_mmr_power, label='MMR-Contrast', linewidth=3, linestyle='-', color='darkred', marker='s', ms=8)\n",
    "axs[1].plot(sample_sizes, rej_mean_gate_power, label='GATE', linewidth=3, linestyle='-', color='darkblue', marker='s', ms=8)\n",
    "axs[1].plot(sample_sizes, rej_mean_ate_power, label='ATE', linewidth=3, linestyle='-', color='darkgray', marker='s', ms=8)\n",
    "axs[0].legend(fontsize=16, loc='upper left')\n",
    "# axs[1].legend(fontsize=14)\n",
    "axs[0].set_xlabel('OBS Sample Size Ratio', fontsize=19)\n",
    "axs[1].set_xlabel('OBS Sample Size Ratio', fontsize=19)\n",
    "axs[0].set_ylabel('Type I Error', fontsize=19)\n",
    "axs[1].set_ylabel('Power', fontsize=19)\n",
    "axs[0].set_ylim(-0.03,1.)\n",
    "axs[1].set_ylim(-0.03,1.)\n",
    "axs[0].tick_params(axis='y', labelsize=18)\n",
    "axs[1].tick_params(axis='y', labelsize=18)\n",
    "# axs[0].tick_params(axis='x', labelsize=16)\n",
    "# axs[1].tick_params(axis='x', labelsize=16)\n",
    "axs[0].set_xticklabels([0.,1.0,1.5,2.0,2.5,3.0], fontsize=18)\n",
    "axs[1].set_xticklabels([0.,1.0,1.5,2.0,2.5,3.0], fontsize=18)\n",
    "\n",
    "axs[0].grid()\n",
    "axs[1].grid()\n",
    "fig.savefig('./mmr_results/fig1b-v2.pdf',bbox_inches='tight')\n"
   ]
  },
  {
   "cell_type": "code",
   "execution_count": null,
   "metadata": {},
   "outputs": [],
   "source": []
  },
  {
   "cell_type": "code",
   "execution_count": 14,
   "metadata": {},
   "outputs": [
    {
     "name": "stdout",
     "output_type": "stream",
     "text": [
      "{-3.0: {'ate-power': 1.0, 'mmr-level': 0.0, 'mmr-power': 1.0},\n",
      " -2.5: {'ate-power': 1.0, 'mmr-level': 0.0, 'mmr-power': 1.0},\n",
      " -2.0: {'ate-power': 1.0, 'mmr-level': 0.0, 'mmr-power': 1.0},\n",
      " -1.5: {'ate-power': 1.0, 'mmr-level': 0.0, 'mmr-power': 1.0},\n",
      " -1.0: {'ate-power': 1.0, 'mmr-level': 0.0, 'mmr-power': 1.0},\n",
      " -0.5: {'ate-power': 1.0, 'mmr-level': 0.0, 'mmr-power': 1.0},\n",
      " 0.0: {'ate-power': 1.0, 'mmr-level': 0.0, 'mmr-power': 1.0},\n",
      " 0.5: {'ate-power': 1.0, 'mmr-level': 0.0, 'mmr-power': 1.0},\n",
      " 1.0: {'ate-power': 1.0, 'mmr-level': 0.0, 'mmr-power': 1.0},\n",
      " 1.5: {'ate-power': 1.0, 'mmr-level': 0.0, 'mmr-power': 1.0},\n",
      " 2.0: {'ate-power': 1.0, 'mmr-level': 0.0, 'mmr-power': 1.0},\n",
      " 2.5: {'ate-power': 1.0, 'mmr-level': 0.0, 'mmr-power': 1.0},\n",
      " 3.0: {'ate-power': 1.0, 'mmr-level': 0.0, 'mmr-power': 1.0},\n",
      " 3.5: {'ate-power': 1.0, 'mmr-level': 0.0, 'mmr-power': 1.0},\n",
      " 4.0: {'ate-power': 1.0, 'mmr-level': 0.0, 'mmr-power': 0.9},\n",
      " 4.5: {'ate-power': 1.0, 'mmr-level': 0.0, 'mmr-power': 0.7},\n",
      " 5.0: {'ate-power': 1.0, 'mmr-level': 0.0, 'mmr-power': 0.3},\n",
      " 5.5: {'ate-power': 1.0, 'mmr-level': 0.0, 'mmr-power': 0.1},\n",
      " 6.0: {'ate-power': 1.0, 'mmr-level': 0.0, 'mmr-power': 0.1},\n",
      " 6.5: {'ate-power': 1.0, 'mmr-level': 0.0, 'mmr-power': 0.1},\n",
      " 7.0: {'ate-power': 1.0, 'mmr-level': 0.0, 'mmr-power': 0.1}}\n"
     ]
    }
   ],
   "source": [
    "path = './mmr_results/debug/'\n",
    "files = os.listdir(path)\n",
    "\n",
    "wparams = np.arange(-3.,7.5,0.5)\n",
    "wparam_dict = {}\n",
    "for wparam in wparams: \n",
    "    file_ate_power = f'ATE-power-{wparam}.csv'\n",
    "    file_mmr_power = f'MMR-power-{wparam}.csv'\n",
    "    file_mmr_level = f'MMR-level-{wparam}.csv'\n",
    "\n",
    "    ate_power = pd.read_csv(os.path.join(path, file_ate_power))\n",
    "    mmr_power = pd.read_csv(os.path.join(path, file_mmr_power))\n",
    "    mmr_level = pd.read_csv(os.path.join(path, file_mmr_level))\n",
    "    \n",
    "    wparam_dict[wparam] = {\n",
    "        'ate-power': ate_power['reject'].mean(), \n",
    "        'mmr-power': mmr_power['reject'].mean(), \n",
    "        'mmr-level': mmr_level['reject'].mean()\n",
    "    }\n",
    "\n",
    "import pprint \n",
    "pprint.pprint(wparam_dict)\n",
    "\n",
    "\n"
   ]
  },
  {
   "cell_type": "code",
   "execution_count": 16,
   "metadata": {},
   "outputs": [
    {
     "data": {
      "text/html": [
       "<div>\n",
       "<style scoped>\n",
       "    .dataframe tbody tr th:only-of-type {\n",
       "        vertical-align: middle;\n",
       "    }\n",
       "\n",
       "    .dataframe tbody tr th {\n",
       "        vertical-align: top;\n",
       "    }\n",
       "\n",
       "    .dataframe thead th {\n",
       "        text-align: right;\n",
       "    }\n",
       "</style>\n",
       "<table border=\"1\" class=\"dataframe\">\n",
       "  <thead>\n",
       "    <tr style=\"text-align: right;\">\n",
       "      <th></th>\n",
       "      <th>Unnamed: 0</th>\n",
       "      <th>iter</th>\n",
       "      <th>obs_study_num</th>\n",
       "      <th>obs_study_size</th>\n",
       "      <th>p_val</th>\n",
       "      <th>reject</th>\n",
       "    </tr>\n",
       "  </thead>\n",
       "  <tbody>\n",
       "    <tr>\n",
       "      <th>0</th>\n",
       "      <td>0</td>\n",
       "      <td>0</td>\n",
       "      <td>1</td>\n",
       "      <td>0.05</td>\n",
       "      <td>0.009901</td>\n",
       "      <td>1</td>\n",
       "    </tr>\n",
       "    <tr>\n",
       "      <th>1</th>\n",
       "      <td>1</td>\n",
       "      <td>0</td>\n",
       "      <td>2</td>\n",
       "      <td>0.10</td>\n",
       "      <td>0.801980</td>\n",
       "      <td>0</td>\n",
       "    </tr>\n",
       "    <tr>\n",
       "      <th>2</th>\n",
       "      <td>2</td>\n",
       "      <td>0</td>\n",
       "      <td>3</td>\n",
       "      <td>1.00</td>\n",
       "      <td>0.722772</td>\n",
       "      <td>0</td>\n",
       "    </tr>\n",
       "    <tr>\n",
       "      <th>3</th>\n",
       "      <td>3</td>\n",
       "      <td>0</td>\n",
       "      <td>4</td>\n",
       "      <td>3.00</td>\n",
       "      <td>0.059406</td>\n",
       "      <td>0</td>\n",
       "    </tr>\n",
       "    <tr>\n",
       "      <th>4</th>\n",
       "      <td>4</td>\n",
       "      <td>0</td>\n",
       "      <td>5</td>\n",
       "      <td>5.00</td>\n",
       "      <td>0.663366</td>\n",
       "      <td>0</td>\n",
       "    </tr>\n",
       "    <tr>\n",
       "      <th>...</th>\n",
       "      <td>...</td>\n",
       "      <td>...</td>\n",
       "      <td>...</td>\n",
       "      <td>...</td>\n",
       "      <td>...</td>\n",
       "      <td>...</td>\n",
       "    </tr>\n",
       "    <tr>\n",
       "      <th>495</th>\n",
       "      <td>495</td>\n",
       "      <td>99</td>\n",
       "      <td>1</td>\n",
       "      <td>0.05</td>\n",
       "      <td>0.910891</td>\n",
       "      <td>0</td>\n",
       "    </tr>\n",
       "    <tr>\n",
       "      <th>496</th>\n",
       "      <td>496</td>\n",
       "      <td>99</td>\n",
       "      <td>2</td>\n",
       "      <td>0.10</td>\n",
       "      <td>0.039604</td>\n",
       "      <td>1</td>\n",
       "    </tr>\n",
       "    <tr>\n",
       "      <th>497</th>\n",
       "      <td>497</td>\n",
       "      <td>99</td>\n",
       "      <td>3</td>\n",
       "      <td>1.00</td>\n",
       "      <td>0.099010</td>\n",
       "      <td>0</td>\n",
       "    </tr>\n",
       "    <tr>\n",
       "      <th>498</th>\n",
       "      <td>498</td>\n",
       "      <td>99</td>\n",
       "      <td>4</td>\n",
       "      <td>3.00</td>\n",
       "      <td>0.712871</td>\n",
       "      <td>0</td>\n",
       "    </tr>\n",
       "    <tr>\n",
       "      <th>499</th>\n",
       "      <td>499</td>\n",
       "      <td>99</td>\n",
       "      <td>5</td>\n",
       "      <td>5.00</td>\n",
       "      <td>0.712871</td>\n",
       "      <td>0</td>\n",
       "    </tr>\n",
       "  </tbody>\n",
       "</table>\n",
       "<p>500 rows × 6 columns</p>\n",
       "</div>"
      ],
      "text/plain": [
       "     Unnamed: 0  iter  obs_study_num  obs_study_size     p_val  reject\n",
       "0             0     0              1            0.05  0.009901       1\n",
       "1             1     0              2            0.10  0.801980       0\n",
       "2             2     0              3            1.00  0.722772       0\n",
       "3             3     0              4            3.00  0.059406       0\n",
       "4             4     0              5            5.00  0.663366       0\n",
       "..          ...   ...            ...             ...       ...     ...\n",
       "495         495    99              1            0.05  0.910891       0\n",
       "496         496    99              2            0.10  0.039604       1\n",
       "497         497    99              3            1.00  0.099010       0\n",
       "498         498    99              4            3.00  0.712871       0\n",
       "499         499    99              5            5.00  0.712871       0\n",
       "\n",
       "[500 rows x 6 columns]"
      ]
     },
     "execution_count": 16,
     "metadata": {},
     "output_type": "execute_result"
    }
   ],
   "source": [
    "path = './mmr_results/fig2/'\n",
    "filenames = {\n",
    "    'psi-hat': 'mmr-psi-hat-bugfix.csv', \n",
    "    'psi-oracle': 'mmr-psi-oracle-bugfix.csv'\n",
    "}\n",
    "full_paths = {k:os.path.join(path,filenames[k]) for k in filenames.keys()}\n",
    "dfs = {k:pd.read_csv(full_paths[k]) for k in full_paths.keys()}\n",
    "dfs['psi-oracle']"
   ]
  },
  {
   "cell_type": "code",
   "execution_count": 19,
   "metadata": {},
   "outputs": [
    {
     "name": "stdout",
     "output_type": "stream",
     "text": [
      "[0.05, 1.0, 3.0, 5.0]\n",
      "[0.39, 0.1, 0.09, 0.08]\n",
      "[0.07, 0.01, 0.02, 0.03]\n"
     ]
    }
   ],
   "source": [
    "sample_sizes = [.05,1.,3.,5.,10.]\n",
    "rej_mean_mmr_hat = []\n",
    "rej_mean_mmr_oracle = []\n",
    "\n",
    "\n",
    "for size in sample_sizes: \n",
    "    rej_mean_mmr_hat.append(dfs['psi-hat'][dfs['psi-hat']['obs_study_size'] == size]['reject'].mean())\n",
    "    rej_mean_mmr_oracle.append(dfs['psi-oracle'][dfs['psi-oracle']['obs_study_size'] == size]['reject'].mean())\n",
    "\n",
    "print(sample_sizes)\n",
    "print(rej_mean_mmr_hat)\n",
    "print(rej_mean_mmr_oracle)"
   ]
  },
  {
   "cell_type": "code",
   "execution_count": 21,
   "metadata": {},
   "outputs": [
    {
     "data": {
      "image/png": "[encoded data removed]",
      "text/plain": [
       "<Figure size 360x288 with 1 Axes>"
      ]
     },
     "metadata": {
      "needs_background": "light"
     },
     "output_type": "display_data"
    }
   ],
   "source": [
    "fig, axs = plt.subplots(1,1,figsize=(5,4))\n",
    "axs.plot(sample_sizes, rej_mean_mmr_hat, label='$\\widehat{\\psi}$', linewidth=3, linestyle='--', color='darkred', marker='s', ms=8)\n",
    "axs.plot(sample_sizes, rej_mean_mmr_oracle, label='$\\psi$', linewidth=3, linestyle='--', color='darkblue', marker='s', ms=8)\n",
    "axs.legend(fontsize=16, loc='upper left')\n",
    "# axs.legend(fontsize=14)\n",
    "axs.set_xlabel('OBS Sample Size Ratio', fontsize=19)\n",
    "axs.set_ylabel('Type I Error', fontsize=19)\n",
    "axs.set_ylim(-0.03,1.)\n",
    "axs.tick_params(axis='y', labelsize=18)\n",
    "# axs.tick_params(axis='x', labelsize=16)\n",
    "# axs.tick_params(axis='x', labelsize=16)\n",
    "# axs.set_xticklabels([0.,1.0,1.5,2.0,2.5,3.0], fontsize=18)\n",
    "# axs.set_xticklabels([0.,1.0,1.5,2.0,2.5,3.0], fontsize=18)\n",
    "\n",
    "axs.grid()\n",
    "fig.savefig('./mmr_results/fig2.pdf',bbox_inches='tight')"
   ]
  },
  {
   "cell_type": "code",
   "execution_count": null,
   "metadata": {},
   "outputs": [],
   "source": []
  },
  {
   "cell_type": "markdown",
   "metadata": {},
   "source": [
    "# Visualizing Witness Function for Semi-Synthetic Data"
   ]
  },
  {
   "cell_type": "code",
   "execution_count": 90,
   "metadata": {},
   "outputs": [
    {
     "data": {
      "text/html": [
       "<div>\n",
       "<style scoped>\n",
       "    .dataframe tbody tr th:only-of-type {\n",
       "        vertical-align: middle;\n",
       "    }\n",
       "\n",
       "    .dataframe tbody tr th {\n",
       "        vertical-align: top;\n",
       "    }\n",
       "\n",
       "    .dataframe thead th {\n",
       "        text-align: right;\n",
       "    }\n",
       "</style>\n",
       "<table border=\"1\" class=\"dataframe\">\n",
       "  <thead>\n",
       "    <tr style=\"text-align: right;\">\n",
       "      <th></th>\n",
       "      <th>Unnamed: 0</th>\n",
       "      <th>iter</th>\n",
       "      <th>obs_study_num</th>\n",
       "      <th>obs_study_size</th>\n",
       "      <th>p_val</th>\n",
       "      <th>reject</th>\n",
       "      <th>f_coord_pos</th>\n",
       "      <th>f_coord_neg</th>\n",
       "      <th>x_coord_pos</th>\n",
       "      <th>x_coord_neg</th>\n",
       "      <th>covariate_names</th>\n",
       "    </tr>\n",
       "  </thead>\n",
       "  <tbody>\n",
       "    <tr>\n",
       "      <th>0</th>\n",
       "      <td>0</td>\n",
       "      <td>0</td>\n",
       "      <td>1</td>\n",
       "      <td>5.0</td>\n",
       "      <td>0.425743</td>\n",
       "      <td>0</td>\n",
       "      <td>[-0.63328448 -0.63257406 -0.63198952 -0.631530...</td>\n",
       "      <td>[-0.752436   -0.7512615  -0.7502158  -0.749298...</td>\n",
       "      <td>[ 15.          16.23232323  17.46464646  18.69...</td>\n",
       "      <td>[ 15.          16.23232323  17.46464646  18.69...</td>\n",
       "      <td>['nnhealth', 'booze']</td>\n",
       "    </tr>\n",
       "    <tr>\n",
       "      <th>1</th>\n",
       "      <td>1</td>\n",
       "      <td>1</td>\n",
       "      <td>1</td>\n",
       "      <td>5.0</td>\n",
       "      <td>0.415842</td>\n",
       "      <td>0</td>\n",
       "      <td>[ 2.99522975e+00  2.94696571e+00  2.89896724e+...</td>\n",
       "      <td>[ 2.91256701  2.8640616   2.81582037  2.767842...</td>\n",
       "      <td>[ 15.          16.23232323  17.46464646  18.69...</td>\n",
       "      <td>[ 15.          16.23232323  17.46464646  18.69...</td>\n",
       "      <td>['nnhealth', 'booze']</td>\n",
       "    </tr>\n",
       "    <tr>\n",
       "      <th>2</th>\n",
       "      <td>2</td>\n",
       "      <td>2</td>\n",
       "      <td>1</td>\n",
       "      <td>5.0</td>\n",
       "      <td>0.346535</td>\n",
       "      <td>0</td>\n",
       "      <td>[ 0.22490805  0.21784911  0.21085835  0.203935...</td>\n",
       "      <td>[ 0.12478402  0.11811843  0.11151813  0.104982...</td>\n",
       "      <td>[ 15.          16.23232323  17.46464646  18.69...</td>\n",
       "      <td>[ 15.          16.23232323  17.46464646  18.69...</td>\n",
       "      <td>['nnhealth', 'booze']</td>\n",
       "    </tr>\n",
       "  </tbody>\n",
       "</table>\n",
       "</div>"
      ],
      "text/plain": [
       "   Unnamed: 0  iter  obs_study_num  obs_study_size     p_val  reject  \\\n",
       "0           0     0              1             5.0  0.425743       0   \n",
       "1           1     1              1             5.0  0.415842       0   \n",
       "2           2     2              1             5.0  0.346535       0   \n",
       "\n",
       "                                         f_coord_pos  \\\n",
       "0  [-0.63328448 -0.63257406 -0.63198952 -0.631530...   \n",
       "1  [ 2.99522975e+00  2.94696571e+00  2.89896724e+...   \n",
       "2  [ 0.22490805  0.21784911  0.21085835  0.203935...   \n",
       "\n",
       "                                         f_coord_neg  \\\n",
       "0  [-0.752436   -0.7512615  -0.7502158  -0.749298...   \n",
       "1  [ 2.91256701  2.8640616   2.81582037  2.767842...   \n",
       "2  [ 0.12478402  0.11811843  0.11151813  0.104982...   \n",
       "\n",
       "                                         x_coord_pos  \\\n",
       "0  [ 15.          16.23232323  17.46464646  18.69...   \n",
       "1  [ 15.          16.23232323  17.46464646  18.69...   \n",
       "2  [ 15.          16.23232323  17.46464646  18.69...   \n",
       "\n",
       "                                         x_coord_neg        covariate_names  \n",
       "0  [ 15.          16.23232323  17.46464646  18.69...  ['nnhealth', 'booze']  \n",
       "1  [ 15.          16.23232323  17.46464646  18.69...  ['nnhealth', 'booze']  \n",
       "2  [ 15.          16.23232323  17.46464646  18.69...  ['nnhealth', 'booze']  "
      ]
     },
     "execution_count": 90,
     "metadata": {},
     "output_type": "execute_result"
    }
   ],
   "source": [
    "path = './mmr_results/fig3/wf-ss-round2.csv'\n",
    "df_birth = pd.read_csv(path)\n",
    "df_birth\n",
    "path = './mmr_results/fig3/wf-ss-round3.csv'\n",
    "df_nnh = pd.read_csv(path)\n",
    "df_nnh "
   ]
  },
  {
   "cell_type": "code",
   "execution_count": 91,
   "metadata": {},
   "outputs": [
    {
     "name": "stdout",
     "output_type": "stream",
     "text": [
      "1    ['birth.o', 'booze']\n",
      "Name: covariate_names, dtype: object\n",
      "1    ['nnhealth', 'booze']\n",
      "Name: covariate_names, dtype: object\n"
     ]
    }
   ],
   "source": [
    "df = df_birth[df_birth['iter'] == 1]\n",
    "f_coord_pos_bi = [ np.fromstring(x_str.strip('[]'), sep=' ') for x_str in df['f_coord_pos'].values ][0]\n",
    "f_coord_neg_bi = [ np.fromstring(x_str.strip('[]'), sep=' ') for x_str in df['f_coord_neg'].values ][0]\n",
    "x_coord_pos_bi = [ np.fromstring(x_str.strip('[]'), sep=' ') for x_str in df['x_coord_pos'].values ][0]\n",
    "x_coord_neg_bi = [ np.fromstring(x_str.strip('[]'), sep=' ') for x_str in df['x_coord_neg'].values ][0]\n",
    "cov_names = df['covariate_names']\n",
    "print(cov_names)\n",
    "\n",
    "df = df_nnh[df_nnh['iter'] == 1]\n",
    "f_coord_pos_nnh = [ np.fromstring(x_str.strip('[]'), sep=' ') for x_str in df['f_coord_pos'].values ][0]\n",
    "f_coord_neg_nnh = [ np.fromstring(x_str.strip('[]'), sep=' ') for x_str in df['f_coord_neg'].values ][0]\n",
    "x_coord_pos_nnh = [ np.fromstring(x_str.strip('[]'), sep=' ') for x_str in df['x_coord_pos'].values ][0]\n",
    "x_coord_neg_nnh = [ np.fromstring(x_str.strip('[]'), sep=' ') for x_str in df['x_coord_neg'].values ][0]\n",
    "cov_names = df['covariate_names']\n",
    "print(cov_names)\n",
    "\n"
   ]
  },
  {
   "cell_type": "code",
   "execution_count": 93,
   "metadata": {},
   "outputs": [
    {
     "data": {
      "image/png": "[encoded data removed]",
      "text/plain": [
       "<Figure size 792x288 with 2 Axes>"
      ]
     },
     "metadata": {
      "needs_background": "light"
     },
     "output_type": "display_data"
    }
   ],
   "source": [
    "fig, axlist = plt.subplots(1,2,figsize=(11,4))\n",
    "axs = axlist.ravel()\n",
    "\n",
    "axs[0].plot(x_coord_pos_bi, f_coord_pos_bi, label='Drinks', linewidth=3, linestyle='-', color='darkred')\n",
    "axs[0].plot(x_coord_neg_bi, f_coord_neg_bi, label='Does Not Drink', linewidth=3, linestyle='-', color='darkblue')\n",
    "axs[0].legend(fontsize=16, loc='lower left')\n",
    "# axs[0].legend(fontsize=14)\n",
    "axs[0].set_xlabel('Birth Order', fontsize=19)\n",
    "axs[0].set_ylabel('f', fontsize=19)\n",
    "# axs[0].set_ylim(-0.1,.3)\n",
    "axs[0].tick_params(axis='y', labelsize=18)\n",
    "axs[0].tick_params(axis='x', labelsize=18)\n",
    "# axs[0].tick_params(axis='x', labelsize=16)\n",
    "# axs[0].set_xticklabels([0.,1.0,1.5,2.0,2.5,3.0], fontsize=18)\n",
    "# axs[0].set_xticklabels([0.,1.0,1.5,2.0,2.5,3.0], fontsize=18)\n",
    "\n",
    "axs[1].plot(x_coord_pos_nnh, f_coord_pos_nnh, label='Drinks', linewidth=3, linestyle='-', color='darkred')\n",
    "axs[1].plot(x_coord_neg_nnh, f_coord_neg_nnh, label='Does Not Drink', linewidth=3, linestyle='-', color='darkblue')\n",
    "axs[1].legend(fontsize=16, loc='lower left')\n",
    "# axs[1].legend(fontsize=14)\n",
    "axs[1].set_xlabel('Neonatal Health Index', fontsize=19)\n",
    "axs[1].set_ylabel('f', fontsize=19)\n",
    "# axs[1].set_ylim(-0.1,.3)\n",
    "axs[1].tick_params(axis='y', labelsize=18)\n",
    "axs[1].tick_params(axis='x', labelsize=18)\n",
    "# axs[1].tick_params(axis='x', labelsize=16)\n",
    "# axs[1].set_xticklabels([0.,1.0,1.5,2.0,2.5,3.0], fontsize=18)\n",
    "# axs[1].set_xticklabels([0.,1.0,1.5,2.0,2.5,3.0], fontsize=18)\n",
    "\n",
    "fig.savefig('./mmr_results/fig3.pdf',bbox_inches='tight')"
   ]
  },
  {
   "cell_type": "markdown",
   "metadata": {},
   "source": []
  },
  {
   "cell_type": "markdown",
   "metadata": {},
   "source": [
    "# WHI Experiment (Table 1)"
   ]
  },
  {
   "cell_type": "code",
   "execution_count": 20,
   "metadata": {},
   "outputs": [
    {
     "name": "stdout",
     "output_type": "stream",
     "text": [
      "['./whi_results/fig4-power-sel15/ATE_seed38.csv', './whi_results/fig4-power-sel15/ATE_seed44.csv', './whi_results/fig4-power-sel15/ATE_seed43.csv', './whi_results/fig4-power-sel15/ATE_seed31.csv', './whi_results/fig4-power-sel15/ATE_seed36.csv', './whi_results/fig4-power-sel15/ATE_seed0.csv', './whi_results/fig4-power-sel15/ATE_seed7.csv', './whi_results/fig4-power-sel15/ATE_seed9.csv', './whi_results/fig4-power-sel15/ATE_seed15.csv', './whi_results/fig4-power-sel15/ATE_seed12.csv', './whi_results/fig4-power-sel15/ATE_seed27.csv', './whi_results/fig4-power-sel15/ATE_seed20.csv', './whi_results/fig4-power-sel15/ATE_seed29.csv', './whi_results/fig4-power-sel15/ATE_seed37.csv', './whi_results/fig4-power-sel15/ATE_seed30.csv', './whi_results/fig4-power-sel15/ATE_seed42.csv', './whi_results/fig4-power-sel15/ATE_seed39.csv', './whi_results/fig4-power-sel15/ATE_seed45.csv', './whi_results/fig4-power-sel15/ATE_seed28.csv', './whi_results/fig4-power-sel15/ATE_seed21.csv', './whi_results/fig4-power-sel15/ATE_seed26.csv', './whi_results/fig4-power-sel15/ATE_seed13.csv', './whi_results/fig4-power-sel15/ATE_seed8.csv', './whi_results/fig4-power-sel15/ATE_seed14.csv', './whi_results/fig4-power-sel15/ATE_seed6.csv', './whi_results/fig4-power-sel15/ATE_seed1.csv', './whi_results/fig4-power-sel15/ATE_seed25.csv', './whi_results/fig4-power-sel15/ATE_seed22.csv', './whi_results/fig4-power-sel15/ATE_seed17.csv', './whi_results/fig4-power-sel15/ATE_seed10.csv', './whi_results/fig4-power-sel15/ATE_seed2.csv', './whi_results/fig4-power-sel15/ATE_seed5.csv', './whi_results/fig4-power-sel15/ATE_seed19.csv', './whi_results/fig4-power-sel15/ATE_seed33.csv', './whi_results/fig4-power-sel15/ATE_seed34.csv', './whi_results/fig4-power-sel15/ATE_seed48.csv', './whi_results/fig4-power-sel15/ATE_seed46.csv', './whi_results/fig4-power-sel15/ATE_seed41.csv', './whi_results/fig4-power-sel15/ATE_seed4.csv', './whi_results/fig4-power-sel15/ATE_seed18.csv', './whi_results/fig4-power-sel15/ATE_seed3.csv', './whi_results/fig4-power-sel15/ATE_seed11.csv', './whi_results/fig4-power-sel15/ATE_seed16.csv', './whi_results/fig4-power-sel15/ATE_seed23.csv', './whi_results/fig4-power-sel15/ATE_seed24.csv', './whi_results/fig4-power-sel15/ATE_seed40.csv', './whi_results/fig4-power-sel15/ATE_seed47.csv', './whi_results/fig4-power-sel15/ATE_seed35.csv', './whi_results/fig4-power-sel15/ATE_seed49.csv', './whi_results/fig4-power-sel15/ATE_seed32.csv']\n",
      "['./whi_results/fig4-power-sel15/GATE_seed39.csv', './whi_results/fig4-power-sel15/GATE_seed45.csv', './whi_results/fig4-power-sel15/GATE_seed42.csv', './whi_results/fig4-power-sel15/GATE_seed30.csv', './whi_results/fig4-power-sel15/GATE_seed37.csv', './whi_results/fig4-power-sel15/GATE_seed14.csv', './whi_results/fig4-power-sel15/GATE_seed13.csv', './whi_results/fig4-power-sel15/GATE_seed6.csv', './whi_results/fig4-power-sel15/GATE_seed26.csv', './whi_results/fig4-power-sel15/GATE_seed1.csv', './whi_results/fig4-power-sel15/GATE_seed21.csv', './whi_results/fig4-power-sel15/GATE_seed8.csv', './whi_results/fig4-power-sel15/GATE_seed28.csv', './whi_results/fig4-power-sel15/GATE_seed36.csv', './whi_results/fig4-power-sel15/GATE_seed31.csv', './whi_results/fig4-power-sel15/GATE_seed43.csv', './whi_results/fig4-power-sel15/GATE_seed38.csv', './whi_results/fig4-power-sel15/GATE_seed44.csv', './whi_results/fig4-power-sel15/GATE_seed9.csv', './whi_results/fig4-power-sel15/GATE_seed29.csv', './whi_results/fig4-power-sel15/GATE_seed0.csv', './whi_results/fig4-power-sel15/GATE_seed20.csv', './whi_results/fig4-power-sel15/GATE_seed7.csv', './whi_results/fig4-power-sel15/GATE_seed27.csv', './whi_results/fig4-power-sel15/GATE_seed12.csv', './whi_results/fig4-power-sel15/GATE_seed15.csv', './whi_results/fig4-power-sel15/GATE_seed4.csv', './whi_results/fig4-power-sel15/GATE_seed24.csv', './whi_results/fig4-power-sel15/GATE_seed3.csv', './whi_results/fig4-power-sel15/GATE_seed23.csv', './whi_results/fig4-power-sel15/GATE_seed16.csv', './whi_results/fig4-power-sel15/GATE_seed11.csv', './whi_results/fig4-power-sel15/GATE_seed18.csv', './whi_results/fig4-power-sel15/GATE_seed32.csv', './whi_results/fig4-power-sel15/GATE_seed35.csv', './whi_results/fig4-power-sel15/GATE_seed49.csv', './whi_results/fig4-power-sel15/GATE_seed47.csv', './whi_results/fig4-power-sel15/GATE_seed40.csv', './whi_results/fig4-power-sel15/GATE_seed19.csv', './whi_results/fig4-power-sel15/GATE_seed10.csv', './whi_results/fig4-power-sel15/GATE_seed17.csv', './whi_results/fig4-power-sel15/GATE_seed2.csv', './whi_results/fig4-power-sel15/GATE_seed22.csv', './whi_results/fig4-power-sel15/GATE_seed5.csv', './whi_results/fig4-power-sel15/GATE_seed25.csv', './whi_results/fig4-power-sel15/GATE_seed41.csv', './whi_results/fig4-power-sel15/GATE_seed46.csv', './whi_results/fig4-power-sel15/GATE_seed34.csv', './whi_results/fig4-power-sel15/GATE_seed48.csv', './whi_results/fig4-power-sel15/GATE_seed33.csv']\n",
      "['./whi_results/fig4-power-sel15/MMR-Contrast_seed28.csv', './whi_results/fig4-power-sel15/MMR-Contrast_seed8.csv', './whi_results/fig4-power-sel15/MMR-Contrast_seed26.csv', './whi_results/fig4-power-sel15/MMR-Contrast_seed6.csv', './whi_results/fig4-power-sel15/MMR-Contrast_seed21.csv', './whi_results/fig4-power-sel15/MMR-Contrast_seed1.csv', './whi_results/fig4-power-sel15/MMR-Contrast_seed14.csv', './whi_results/fig4-power-sel15/MMR-Contrast_seed13.csv', './whi_results/fig4-power-sel15/MMR-Contrast_seed30.csv', './whi_results/fig4-power-sel15/MMR-Contrast_seed37.csv', './whi_results/fig4-power-sel15/MMR-Contrast_seed39.csv', './whi_results/fig4-power-sel15/MMR-Contrast_seed45.csv', './whi_results/fig4-power-sel15/MMR-Contrast_seed42.csv', './whi_results/fig4-power-sel15/MMR-Contrast_seed12.csv', './whi_results/fig4-power-sel15/MMR-Contrast_seed15.csv', './whi_results/fig4-power-sel15/MMR-Contrast_seed20.csv', './whi_results/fig4-power-sel15/MMR-Contrast_seed0.csv', './whi_results/fig4-power-sel15/MMR-Contrast_seed27.csv', './whi_results/fig4-power-sel15/MMR-Contrast_seed7.csv', './whi_results/fig4-power-sel15/MMR-Contrast_seed29.csv', './whi_results/fig4-power-sel15/MMR-Contrast_seed9.csv', './whi_results/fig4-power-sel15/MMR-Contrast_seed43.csv', './whi_results/fig4-power-sel15/MMR-Contrast_seed38.csv', './whi_results/fig4-power-sel15/MMR-Contrast_seed44.csv', './whi_results/fig4-power-sel15/MMR-Contrast_seed36.csv', './whi_results/fig4-power-sel15/MMR-Contrast_seed31.csv', './whi_results/fig4-power-sel15/MMR-Contrast_seed47.csv', './whi_results/fig4-power-sel15/MMR-Contrast_seed40.csv', './whi_results/fig4-power-sel15/MMR-Contrast_seed32.csv', './whi_results/fig4-power-sel15/MMR-Contrast_seed35.csv', './whi_results/fig4-power-sel15/MMR-Contrast_seed49.csv', './whi_results/fig4-power-sel15/MMR-Contrast_seed18.csv', './whi_results/fig4-power-sel15/MMR-Contrast_seed16.csv', './whi_results/fig4-power-sel15/MMR-Contrast_seed11.csv', './whi_results/fig4-power-sel15/MMR-Contrast_seed4.csv', './whi_results/fig4-power-sel15/MMR-Contrast_seed24.csv', './whi_results/fig4-power-sel15/MMR-Contrast_seed3.csv', './whi_results/fig4-power-sel15/MMR-Contrast_seed23.csv', './whi_results/fig4-power-sel15/MMR-Contrast_seed34.csv', './whi_results/fig4-power-sel15/MMR-Contrast_seed48.csv', './whi_results/fig4-power-sel15/MMR-Contrast_seed33.csv', './whi_results/fig4-power-sel15/MMR-Contrast_seed41.csv', './whi_results/fig4-power-sel15/MMR-Contrast_seed46.csv', './whi_results/fig4-power-sel15/MMR-Contrast_seed2.csv', './whi_results/fig4-power-sel15/MMR-Contrast_seed22.csv', './whi_results/fig4-power-sel15/MMR-Contrast_seed5.csv', './whi_results/fig4-power-sel15/MMR-Contrast_seed25.csv', './whi_results/fig4-power-sel15/MMR-Contrast_seed10.csv', './whi_results/fig4-power-sel15/MMR-Contrast_seed17.csv', './whi_results/fig4-power-sel15/MMR-Contrast_seed19.csv']\n"
     ]
    }
   ],
   "source": [
    "path = './whi_results/fig4-power-sel15'\n",
    "filenames = os.listdir(path)\n",
    "files = [os.path.join(path,file) for file in filenames]\n",
    "ate_files = [file for file in files if '/ATE_' in file]\n",
    "gate_files = [file for file in files if '/GATE_' in file]\n",
    "mmr_files = [file for file in files if '/MMR-Contrast' in file]\n",
    "print(ate_files)\n",
    "print(gate_files)\n",
    "print(mmr_files)\n"
   ]
  },
  {
   "cell_type": "code",
   "execution_count": 21,
   "metadata": {},
   "outputs": [
    {
     "name": "stdout",
     "output_type": "stream",
     "text": [
      "0.98\n",
      "0.907741935483871\n",
      "1.0\n"
     ]
    }
   ],
   "source": [
    "rej_ate = []\n",
    "for file in ate_files: \n",
    "    df = pd.read_csv(file)\n",
    "    rej_ate.append(df['reject'].values[0])\n",
    "print(np.mean(rej_ate))\n",
    "\n",
    "rej_gate = []\n",
    "for file in gate_files: \n",
    "    df = pd.read_csv(file)\n",
    "    m = df['reject'].mean()\n",
    "    rej_gate.append(m)\n",
    "print(np.mean(rej_gate))\n",
    "\n",
    "rej_mmr = []\n",
    "for file in mmr_files: \n",
    "    df = pd.read_csv(file)\n",
    "    m = df['reject'].mean()\n",
    "    rej_mmr.append(m)\n",
    "print(np.mean(rej_mmr))\n",
    "\n"
   ]
  },
  {
   "cell_type": "code",
   "execution_count": null,
   "metadata": {},
   "outputs": [],
   "source": []
  },
  {
   "cell_type": "code",
   "execution_count": null,
   "metadata": {},
   "outputs": [],
   "source": []
  }
 ],
 "metadata": {
  "interpreter": {
   "hash": "ae6ac721b9a881e4cfbf67ad441e404e62fae6c14a9d57f9db7ec81c0511a864"
  },
  "kernelspec": {
   "display_name": "Python 3.8.5 ('p3z')",
   "language": "python",
   "name": "python3"
  },
  "language_info": {
   "codemirror_mode": {
    "name": "ipython",
    "version": 3
   },
   "file_extension": ".py",
   "mimetype": "text/x-python",
   "name": "python",
   "nbconvert_exporter": "python",
   "pygments_lexer": "ipython3",
   "version": "3.8.5"
  },
  "orig_nbformat": 4
 },
 "nbformat": 4,
 "nbformat_minor": 2
}
